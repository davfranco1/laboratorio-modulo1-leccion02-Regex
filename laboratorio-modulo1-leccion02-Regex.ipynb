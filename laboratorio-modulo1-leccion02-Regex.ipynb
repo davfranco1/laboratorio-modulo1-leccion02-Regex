{
 "cells": [
  {
   "cell_type": "markdown",
   "metadata": {},
   "source": [
    "<div style=\"text-align: center;\">\n",
    "  <img src=\"https://github.com/Hack-io-Data/Imagenes/blob/main/01-LogosHackio/logo_naranja@4x.png?raw=true\" alt=\"esquema\" />\n",
    "</div>"
   ]
  },
  {
   "cell_type": "markdown",
   "metadata": {},
   "source": [
    "# Laboratorio de Regex:"
   ]
  },
  {
   "cell_type": "markdown",
   "metadata": {},
   "source": [
    "### Ejercicio 1: Extracción de datos.\n",
    "\n",
    "Recuerda que necesitamos hacer importaciones antes de enfrentarnos a un problema. "
   ]
  },
  {
   "cell_type": "code",
   "execution_count": 17,
   "metadata": {},
   "outputs": [],
   "source": [
    "## Trabajar con regex\n",
    "import re \n",
    "\n",
    "## Contador palabras \n",
    "from collections import Counter \n"
   ]
  },
  {
   "cell_type": "markdown",
   "metadata": {},
   "source": [
    "Dado el archivo `datos_artistas.txt` usa las **expresiones regulares** para extraer los siguientes datos, con el código que encontrarás en la siguiente celda:"
   ]
  },
  {
   "cell_type": "code",
   "execution_count": 18,
   "metadata": {},
   "outputs": [
    {
     "name": "stdout",
     "output_type": "stream",
     "text": [
      "BobDylan bob.dylan@gmail.com -1 123456789 http://bobdylan.com Like a Rolling Stone - 6:13 1965 Once upon a time you dressed so fine\n",
      "Threw the bums a dime in your prime, didn't you?\n",
      "People call say 'be\n"
     ]
    }
   ],
   "source": [
    "with open('Datos/datos_artistas.txt', 'r', encoding='utf-8') as archivo:\n",
    "    contenido = archivo.read()\n",
    "\n",
    "print(contenido[:200])"
   ]
  },
  {
   "cell_type": "markdown",
   "metadata": {},
   "source": [
    "#### 1.1 La información de cada artista(nombre, correo de contacto, número de contacto y sitio web)."
   ]
  },
  {
   "cell_type": "code",
   "execution_count": 19,
   "metadata": {},
   "outputs": [
    {
     "name": "stdout",
     "output_type": "stream",
     "text": [
      "[['BobDylan', 'bob.dylan@gmail.com', '123456789', 'http://bobdylan.com'], ['TheBeatles', 'contact@thebeatles.co.uk', '234567890', 'http://thebeatles.co.uk'], ['EltonJohn', 'elton.john@hotmail.com', '345678901', 'http://eltonjohn.com'], ['Queen', 'info@queenonline.com', '456789012', 'http://queenonline.com'], ['MichaelJackson', 'michael.jackson@yahoo.com', '567890123', 'http://michaeljackson.com'], ['Madonna', 'madonna@madonna.com', '678901234', 'http://madonna.com'], ['DavidBowie', 'david.bowie@outlook.com', '789012345', 'http://davidbowie.com'], ['Nirvana', 'contact@nirvana.com', '890123456', 'http://nirvana.com'], ['Adele', 'adele@adele.com', '901234567', 'http://adele.com'], ['EdSheeran', 'ed.sheeran@gmail.com', '123456789', 'http://edsheeran.com'], ['Beyoncé', 'beyonce@beyonce.com', '234567890', 'http://beyonce.com'], ['TaylorSwift', 'taylor.swift@yahoo.com', '345678901', 'http://taylorswift.com'], ['Rihanna', 'rihanna@hotmail.com', '456789012', 'http://rihanna.com'], ['Drake,', 'drake@drake.com', '567890123,', 'http://drake.com'], ['KanyeWest', 'kanye.west@gmail.com', '678901234', 'http://kanyewest.com'], ['BrunoMars', 'bruno.mars@outlook.com', '789012345', 'https://brunomars.com'], ['ArianaGrande', 'ariana.grande@yahoo.com', '890123456', 'https://arianagrande.com'], ['Shakira,', 'shakira@hotmail.com', '123456789,', 'http://shakira.com'], ['Coldplay', 'info@coldplay.com', '234567890', 'http://coldplay.com'], ['LadyGaga', 'lady.gaga@gmail.com', '345678901', 'https://ladygaga.com']]\n"
     ]
    }
   ],
   "source": [
    "aux1 = contenido.split(\"./\")\n",
    "artistas=[]\n",
    "for elem in aux1:\n",
    "    aux_bucle = elem.split()\n",
    "    artistas.append([aux_bucle[0], aux_bucle[1], aux_bucle[3], aux_bucle[4]])\n",
    "\n",
    "print(artistas)"
   ]
  },
  {
   "cell_type": "markdown",
   "metadata": {},
   "source": [
    "#### 1.2 La información de cada canción(título, duración y fecha de lanzamiento)."
   ]
  },
  {
   "cell_type": "code",
   "execution_count": 20,
   "metadata": {},
   "outputs": [
    {
     "data": {
      "text/plain": [
       "['Like a Rolling Stone',\n",
       " 'Hey Jude',\n",
       " 'Your Song',\n",
       " 'Bohemian Rhapsody',\n",
       " 'Billie Jean',\n",
       " 'Like a Prayer',\n",
       " 'Space Oddity',\n",
       " 'Smells Like Teen Spirit',\n",
       " 'Someone Like You',\n",
       " 'Shape of You',\n",
       " 'Halo',\n",
       " 'Blank Space',\n",
       " 'Diamonds',\n",
       " 'Hotline Bling',\n",
       " 'Stronger',\n",
       " 'Uptown Funk',\n",
       " '7 Rings',\n",
       " \"Hips Don't Lie\",\n",
       " 'Yellow',\n",
       " 'Bad Romance']"
      ]
     },
     "execution_count": 20,
     "metadata": {},
     "output_type": "execute_result"
    }
   ],
   "source": [
    "canciones = contenido.split(\"http\")[1:]\n",
    "\n",
    "titulos_sucio =[]\n",
    "for elem in canciones:\n",
    "    patron = r'\\.com|\\.net|\\.uk|\\.es|\\.us'\n",
    "    resultado = re.split(patron, elem)\n",
    "    titulos_sucio.append(resultado[1])\n",
    "    \n",
    "titulos = []\n",
    "for tit in titulos_sucio:\n",
    "    titulos.append((tit.split('-')[0]).strip())\n",
    "titulos"
   ]
  },
  {
   "cell_type": "code",
   "execution_count": 21,
   "metadata": {},
   "outputs": [
    {
     "data": {
      "text/plain": [
       "[[' 6:13 1965'],\n",
       " [' 7:11 1968'],\n",
       " [' 4:01 1970'],\n",
       " [' 5:55 1975'],\n",
       " [' 4:54 1982'],\n",
       " [' 5:43 1989'],\n",
       " [' 5:18 1969'],\n",
       " [' 5:01 1991'],\n",
       " [' 4:45 2011'],\n",
       " [' 3:53 2017'],\n",
       " [' 4:21 2008'],\n",
       " [' 3:52 2014'],\n",
       " [' 3:45,2012'],\n",
       " [' 4:27 2015'],\n",
       " [' 5:12 2007'],\n",
       " [' 4:30 2014'],\n",
       " [' 2:58 2019'],\n",
       " [' 3:38 2006'],\n",
       " [' 4:26 2000'],\n",
       " [' 4:54 2009']]"
      ]
     },
     "execution_count": 21,
     "metadata": {},
     "output_type": "execute_result"
    }
   ],
   "source": [
    "duracion_ano = []\n",
    "for elem in titulos_sucio:\n",
    "\n",
    "    patron_minutos_ano = r\"\\s\\d{1,2}:\\d{2},?\\s?\\d{4}\"\n",
    "    res = re.findall(patron_minutos_ano, elem)\n",
    "    duracion_ano.append(res)\n",
    "\n",
    "duracion_ano"
   ]
  },
  {
   "cell_type": "code",
   "execution_count": 22,
   "metadata": {},
   "outputs": [
    {
     "data": {
      "text/plain": [
       "['Like a Rolling Stone 6:13 1965',\n",
       " 'Hey Jude 7:11 1968',\n",
       " 'Your Song 4:01 1970',\n",
       " 'Bohemian Rhapsody 5:55 1975',\n",
       " 'Billie Jean 4:54 1982',\n",
       " 'Like a Prayer 5:43 1989',\n",
       " 'Space Oddity 5:18 1969',\n",
       " 'Smells Like Teen Spirit 5:01 1991',\n",
       " 'Someone Like You 4:45 2011',\n",
       " 'Shape of You 3:53 2017',\n",
       " 'Halo 4:21 2008',\n",
       " 'Blank Space 3:52 2014',\n",
       " 'Diamonds 3:45,2012',\n",
       " 'Hotline Bling 4:27 2015',\n",
       " 'Stronger 5:12 2007',\n",
       " 'Uptown Funk 4:30 2014',\n",
       " '7 Rings 2:58 2019',\n",
       " \"Hips Don't Lie 3:38 2006\",\n",
       " 'Yellow 4:26 2000',\n",
       " 'Bad Romance 4:54 2009']"
      ]
     },
     "execution_count": 22,
     "metadata": {},
     "output_type": "execute_result"
    }
   ],
   "source": [
    "lista_final = []\n",
    "\n",
    "for i in range(len(titulos)):\n",
    "    lista_final.append(titulos[i]+duracion_ano[i][0])\n",
    "lista_final"
   ]
  },
  {
   "cell_type": "markdown",
   "metadata": {},
   "source": [
    "#### 1.3 Almacena la información en una lista de diccionarios donde cada diccionario contenga los datos de un artista y su canción asociada."
   ]
  },
  {
   "cell_type": "code",
   "execution_count": 23,
   "metadata": {},
   "outputs": [
    {
     "data": {
      "text/plain": [
       "[{'Artista': 'BobDylan',\n",
       "  'Correo': 'bob.dylan@gmail.com',\n",
       "  'Telefono': '123456789',\n",
       "  'Web': 'http://bobdylan.com',\n",
       "  'Cancion': 'Like a Rolling Stone'},\n",
       " {'Artista': 'TheBeatles',\n",
       "  'Correo': 'contact@thebeatles.co.uk',\n",
       "  'Telefono': '234567890',\n",
       "  'Web': 'http://thebeatles.co.uk',\n",
       "  'Cancion': 'Hey Jude'},\n",
       " {'Artista': 'EltonJohn',\n",
       "  'Correo': 'elton.john@hotmail.com',\n",
       "  'Telefono': '345678901',\n",
       "  'Web': 'http://eltonjohn.com',\n",
       "  'Cancion': 'Your Song'},\n",
       " {'Artista': 'Queen',\n",
       "  'Correo': 'info@queenonline.com',\n",
       "  'Telefono': '456789012',\n",
       "  'Web': 'http://queenonline.com',\n",
       "  'Cancion': 'Bohemian Rhapsody'},\n",
       " {'Artista': 'MichaelJackson',\n",
       "  'Correo': 'michael.jackson@yahoo.com',\n",
       "  'Telefono': '567890123',\n",
       "  'Web': 'http://michaeljackson.com',\n",
       "  'Cancion': 'Billie Jean'},\n",
       " {'Artista': 'Madonna',\n",
       "  'Correo': 'madonna@madonna.com',\n",
       "  'Telefono': '678901234',\n",
       "  'Web': 'http://madonna.com',\n",
       "  'Cancion': 'Like a Prayer'},\n",
       " {'Artista': 'DavidBowie',\n",
       "  'Correo': 'david.bowie@outlook.com',\n",
       "  'Telefono': '789012345',\n",
       "  'Web': 'http://davidbowie.com',\n",
       "  'Cancion': 'Space Oddity'},\n",
       " {'Artista': 'Nirvana',\n",
       "  'Correo': 'contact@nirvana.com',\n",
       "  'Telefono': '890123456',\n",
       "  'Web': 'http://nirvana.com',\n",
       "  'Cancion': 'Smells Like Teen Spirit'},\n",
       " {'Artista': 'Adele',\n",
       "  'Correo': 'adele@adele.com',\n",
       "  'Telefono': '901234567',\n",
       "  'Web': 'http://adele.com',\n",
       "  'Cancion': 'Someone Like You'},\n",
       " {'Artista': 'EdSheeran',\n",
       "  'Correo': 'ed.sheeran@gmail.com',\n",
       "  'Telefono': '123456789',\n",
       "  'Web': 'http://edsheeran.com',\n",
       "  'Cancion': 'Shape of You'},\n",
       " {'Artista': 'Beyoncé',\n",
       "  'Correo': 'beyonce@beyonce.com',\n",
       "  'Telefono': '234567890',\n",
       "  'Web': 'http://beyonce.com',\n",
       "  'Cancion': 'Halo'},\n",
       " {'Artista': 'TaylorSwift',\n",
       "  'Correo': 'taylor.swift@yahoo.com',\n",
       "  'Telefono': '345678901',\n",
       "  'Web': 'http://taylorswift.com',\n",
       "  'Cancion': 'Blank Space'},\n",
       " {'Artista': 'Rihanna',\n",
       "  'Correo': 'rihanna@hotmail.com',\n",
       "  'Telefono': '456789012',\n",
       "  'Web': 'http://rihanna.com',\n",
       "  'Cancion': 'Diamonds'},\n",
       " {'Artista': 'Drake,',\n",
       "  'Correo': 'drake@drake.com',\n",
       "  'Telefono': '567890123,',\n",
       "  'Web': 'http://drake.com',\n",
       "  'Cancion': 'Hotline Bling'},\n",
       " {'Artista': 'KanyeWest',\n",
       "  'Correo': 'kanye.west@gmail.com',\n",
       "  'Telefono': '678901234',\n",
       "  'Web': 'http://kanyewest.com',\n",
       "  'Cancion': 'Stronger'},\n",
       " {'Artista': 'BrunoMars',\n",
       "  'Correo': 'bruno.mars@outlook.com',\n",
       "  'Telefono': '789012345',\n",
       "  'Web': 'https://brunomars.com',\n",
       "  'Cancion': 'Uptown Funk'},\n",
       " {'Artista': 'ArianaGrande',\n",
       "  'Correo': 'ariana.grande@yahoo.com',\n",
       "  'Telefono': '890123456',\n",
       "  'Web': 'https://arianagrande.com',\n",
       "  'Cancion': '7 Rings'},\n",
       " {'Artista': 'Shakira,',\n",
       "  'Correo': 'shakira@hotmail.com',\n",
       "  'Telefono': '123456789,',\n",
       "  'Web': 'http://shakira.com',\n",
       "  'Cancion': \"Hips Don't Lie\"},\n",
       " {'Artista': 'Coldplay',\n",
       "  'Correo': 'info@coldplay.com',\n",
       "  'Telefono': '234567890',\n",
       "  'Web': 'http://coldplay.com',\n",
       "  'Cancion': 'Yellow'},\n",
       " {'Artista': 'LadyGaga',\n",
       "  'Correo': 'lady.gaga@gmail.com',\n",
       "  'Telefono': '345678901',\n",
       "  'Web': 'https://ladygaga.com',\n",
       "  'Cancion': 'Bad Romance'}]"
      ]
     },
     "execution_count": 23,
     "metadata": {},
     "output_type": "execute_result"
    }
   ],
   "source": [
    "lista_artistas = []\n",
    "\n",
    "for i in range(len(artistas)):\n",
    "    dic = {\n",
    "        'Artista': artistas[i][0],\n",
    "        'Correo' : artistas[i][1],\n",
    "        'Telefono' : artistas[i][2],\n",
    "        'Web' : artistas[i][3],\n",
    "        'Cancion' : titulos[i]\n",
    "    }\n",
    "    lista_artistas.append(dic)\n",
    "\n",
    "lista_artistas\n"
   ]
  },
  {
   "cell_type": "markdown",
   "metadata": {},
   "source": [
    "### Ejercicio 2: Análisis de datos\n",
    "Usa las **expresiones regulares** para extraer la siguiente información:"
   ]
  },
  {
   "cell_type": "markdown",
   "metadata": {},
   "source": [
    "#### 2.1 Busca la palabra más repetida en el texto completo.\n"
   ]
  },
  {
   "cell_type": "code",
   "execution_count": 47,
   "metadata": {},
   "outputs": [
    {
     "name": "stdout",
     "output_type": "stream",
     "text": [
      "La palabra más repetida es: [('i', 496)]\n"
     ]
    }
   ],
   "source": [
    "patron_palabras = r'\\b\\w+\\b'\n",
    "palabras = re.findall(patron_palabras, contenido.lower())\n",
    "\n",
    "contador_palabras = Counter(palabras).most_common(1)\n",
    "\n",
    "print(f'La palabra más repetida es: {contador_palabras}')"
   ]
  },
  {
   "cell_type": "markdown",
   "metadata": {},
   "source": [
    "#### 2.2 Busca la palabra que más repetida en cada cación.\n"
   ]
  },
  {
   "cell_type": "code",
   "execution_count": 49,
   "metadata": {},
   "outputs": [
    {
     "name": "stdout",
     "output_type": "stream",
     "text": [
      "La palabra más repetida es \"you\" en la cancion Like a Rolling Stone\n",
      "La palabra más repetida es \"you\" en la cancion Hey Jude\n",
      "La palabra más repetida es \"i\" en la cancion Your Song\n",
      "La palabra más repetida es \"me\" en la cancion Bohemian Rhapsody\n",
      "La palabra más repetida es \"the\" en la cancion Billie Jean\n",
      "La palabra más repetida es \"a\" en la cancion Like a Prayer\n",
      "La palabra más repetida es \"i\" en la cancion Space Oddity\n",
      "La palabra más repetida es \"hello\" en la cancion Smells Like Teen Spirit\n",
      "La palabra más repetida es \"i\" en la cancion Someone Like You\n",
      "La palabra más repetida es \"i\" en la cancion Shape of You\n",
      "La palabra más repetida es \"halo\" en la cancion Halo\n",
      "La palabra más repetida es \"you\" en la cancion Blank Space\n",
      "La palabra más repetida es \"like\" en la cancion Diamonds\n",
      "La palabra más repetida es \"you\" en la cancion Hotline Bling\n",
      "La palabra más repetida es \"i\" en la cancion Stronger\n",
      "La palabra más repetida es \"do\" en la cancion Uptown Funk\n",
      "La palabra más repetida es \"i\" en la cancion 7 Rings\n",
      "La palabra más repetida es \"i\" en la cancion Hips Don't Lie\n",
      "La palabra más repetida es \"you\" en la cancion Yellow\n",
      "La palabra más repetida es \"oh\" en la cancion Bad Romance\n"
     ]
    }
   ],
   "source": [
    "canciones_sucias = contenido.split(\"./\")\n",
    "\n",
    "canciones = []\n",
    "\n",
    "for elem in canciones_sucias:\n",
    "    patron = r\"\\s\\d{1,2}:\\d{2},?\\s?\\d{4}\"\n",
    "    resultado = re.split(patron, elem)[1]\n",
    "    canciones.append(resultado)\n",
    "\n",
    "i=0\n",
    "for cancion in canciones:\n",
    "    palabras = re.findall(r'\\b\\w+\\b', cancion.lower())\n",
    "\n",
    "    contador_palabras = Counter(palabras)\n",
    "    repetida = dict(sorted(contador_palabras.items(), key=lambda item: item[1], reverse=True))    \n",
    "    print(f'La palabra más repetida es \"{list(repetida.keys())[0]}\" en la cancion {titulos[i]}')\n",
    "\n",
    "    i+=1"
   ]
  },
  {
   "cell_type": "markdown",
   "metadata": {},
   "source": [
    "#### 2.3 Busca el nombre de la canción que más dura.\n"
   ]
  },
  {
   "cell_type": "code",
   "execution_count": 26,
   "metadata": {},
   "outputs": [
    {
     "name": "stdout",
     "output_type": "stream",
     "text": [
      "La canción más larga es: Hey Jude con una duración de 7:11\n"
     ]
    }
   ],
   "source": [
    "duracion_ano\n",
    "duraciones = {}\n",
    "i=0\n",
    "for dur in duracion_ano:\n",
    "    patron_duracion = r\"\\d{1,2}:\\d{2}\"\n",
    "    sol = re.findall(patron_duracion, dur[0])\n",
    "    duraciones[titulos[i]] =sol[0]\n",
    "    i+=1\n",
    "\n",
    "mas_larga = dict(sorted(duraciones.items(), key=lambda item: item[1], reverse=True))\n",
    "\n",
    "print(f'La canción más larga es: {list(mas_larga.keys())[0]} con una duración de {list(mas_larga.values())[0]}')"
   ]
  },
  {
   "cell_type": "markdown",
   "metadata": {},
   "source": [
    "#### 2.4 Busca el nombre de la canción que menos dura."
   ]
  },
  {
   "cell_type": "code",
   "execution_count": 27,
   "metadata": {},
   "outputs": [
    {
     "name": "stdout",
     "output_type": "stream",
     "text": [
      "La canción más corta es: 7 Rings con una duración de 2:58\n"
     ]
    }
   ],
   "source": [
    "print(f'La canción más corta es: {list(mas_larga.keys())[-1]} con una duración de {list(mas_larga.values())[-1]}')"
   ]
  },
  {
   "cell_type": "markdown",
   "metadata": {},
   "source": [
    "#### 2.5 Busca el nombre y la fecha de lanzamiento de la canción más actual."
   ]
  },
  {
   "cell_type": "code",
   "execution_count": 34,
   "metadata": {},
   "outputs": [
    {
     "name": "stdout",
     "output_type": "stream",
     "text": [
      "La canción más actual es 7 Rings lanzada el año 2019\n"
     ]
    }
   ],
   "source": [
    "lanzamiento = {}\n",
    "i=0\n",
    "for fecha in duracion_ano:\n",
    "    patron_duracion = r\"\\d{4}\"\n",
    "    sol = re.findall(patron_duracion, fecha[0])\n",
    "    lanzamiento[titulos[i]] =sol[0]\n",
    "    i+=1\n",
    "\n",
    "cancion_lanzamiento = dict(sorted(lanzamiento.items(), key=lambda item: item[1], reverse=True))\n",
    "\n",
    "print(f'La canción más actual es {list(cancion_lanzamiento.keys())[0]} lanzada el año {list(cancion_lanzamiento.values())[0]}')"
   ]
  },
  {
   "cell_type": "markdown",
   "metadata": {},
   "source": [
    "#### 2.6 Calcula la cantidad de países a partir de los números de contacto."
   ]
  },
  {
   "cell_type": "code",
   "execution_count": 35,
   "metadata": {},
   "outputs": [
    {
     "name": "stdout",
     "output_type": "stream",
     "text": [
      "Hay 9 paises distintos.\n"
     ]
    }
   ],
   "source": [
    "aux1 = contenido.split(\"./\")\n",
    "prefijos=[]\n",
    "for elem in aux1:\n",
    "    aux_bucle = elem.split()\n",
    "    prefijos.append(aux_bucle[2])\n",
    "\n",
    "num_paises = len(set(prefijos))\n",
    "print(f'Hay {num_paises} paises distintos.')"
   ]
  },
  {
   "cell_type": "markdown",
   "metadata": {},
   "source": [
    "#### 2.7 Agrupa las canciones por década."
   ]
  },
  {
   "cell_type": "code",
   "execution_count": 36,
   "metadata": {},
   "outputs": [
    {
     "name": "stdout",
     "output_type": "stream",
     "text": [
      "{'7 Rings': '2019', 'Shape of You': '2017', 'Hotline Bling': '2015', 'Blank Space': '2014', 'Uptown Funk': '2014', 'Diamonds': '2012', 'Someone Like You': '2011', 'Bad Romance': '2009', 'Halo': '2008', 'Stronger': '2007', \"Hips Don't Lie\": '2006', 'Yellow': '2000', 'Smells Like Teen Spirit': '1991', 'Like a Prayer': '1989', 'Billie Jean': '1982', 'Bohemian Rhapsody': '1975', 'Your Song': '1970', 'Space Oddity': '1969', 'Hey Jude': '1968', 'Like a Rolling Stone': '1965'}\n"
     ]
    }
   ],
   "source": [
    "print(cancion_lanzamiento)"
   ]
  },
  {
   "cell_type": "code",
   "execution_count": 38,
   "metadata": {},
   "outputs": [
    {
     "name": "stdout",
     "output_type": "stream",
     "text": [
      "2010s: ['7 Rings', 'Shape of You', 'Hotline Bling', 'Blank Space', 'Uptown Funk', 'Diamonds', 'Someone Like You']\n",
      "2000s: ['Bad Romance', 'Halo', 'Stronger', \"Hips Don't Lie\", 'Yellow']\n",
      "1990s: ['Smells Like Teen Spirit']\n",
      "1980s: ['Like a Prayer', 'Billie Jean']\n",
      "1970s: ['Bohemian Rhapsody', 'Your Song']\n",
      "1960s: ['Space Oddity', 'Hey Jude', 'Like a Rolling Stone']\n"
     ]
    }
   ],
   "source": [
    "canciones_por_decada = {}\n",
    "\n",
    "for cancion, ano in cancion_lanzamiento.items():\n",
    "\n",
    "    decada = (int(ano) // 10) * 10 \n",
    "    decada_str = f\"{decada}s\"\n",
    "    \n",
    "    if decada_str not in canciones_por_decada:\n",
    "        canciones_por_decada[decada_str] = []\n",
    "\n",
    "    canciones_por_decada[decada_str].append(cancion)\n",
    "\n",
    "for decada, canciones in canciones_por_decada.items():\n",
    "    print(f\"{decada}: {canciones}\")\n"
   ]
  }
 ],
 "metadata": {
  "kernelspec": {
   "display_name": "envpruebas",
   "language": "python",
   "name": "python3"
  },
  "language_info": {
   "codemirror_mode": {
    "name": "ipython",
    "version": 3
   },
   "file_extension": ".py",
   "mimetype": "text/x-python",
   "name": "python",
   "nbconvert_exporter": "python",
   "pygments_lexer": "ipython3",
   "version": "3.9.6"
  }
 },
 "nbformat": 4,
 "nbformat_minor": 2
}
